{
 "cells": [
  {
   "cell_type": "markdown",
   "id": "6dc4a648",
   "metadata": {},
   "source": [
    "### Sentemint Analysis in twitter"
   ]
  },
  {
   "cell_type": "markdown",
   "id": "3fed5036",
   "metadata": {},
   "source": [
    "**Importing Libraries**"
   ]
  },
  {
   "cell_type": "code",
   "execution_count": 1,
   "id": "f9b68fcc",
   "metadata": {},
   "outputs": [],
   "source": [
    "import numpy as np\n",
    "import pandas as pd\n",
    "import matplotlib.pyplot as plt \n",
    "import seaborn as sns\n",
    "\n",
    "from sklearn.model_selection import train_test_split\n",
    "\n",
    "from sklearn.pipeline import Pipeline\n",
    "from sklearn.metrics import classification_report,accuracy_score,confusion_matrix\n",
    "from sklearn.feature_extraction.text import CountVectorizer\n",
    "from sklearn.naive_bayes import MultinomialNB\n",
    "from sklearn.linear_model import LogisticRegression\n",
    "from sklearn.neighbors import KNeighborsClassifier\n",
    "\n",
    "import warnings\n",
    "warnings.filterwarnings(\"ignore\")"
   ]
  },
  {
   "cell_type": "markdown",
   "id": "7a37b742",
   "metadata": {},
   "source": [
    "**Load twitter dataset**"
   ]
  },
  {
   "cell_type": "code",
   "execution_count": 2,
   "id": "33eec4fb",
   "metadata": {},
   "outputs": [
    {
     "data": {
      "text/plain": [
       "(162980, 2)"
      ]
     },
     "execution_count": 2,
     "metadata": {},
     "output_type": "execute_result"
    }
   ],
   "source": [
    "tw_df = pd.read_csv(\"Twitter_Data.csv\")\n",
    "\n",
    "tw_df.shape"
   ]
  },
  {
   "cell_type": "code",
   "execution_count": 3,
   "id": "96d4b1ea",
   "metadata": {},
   "outputs": [
    {
     "data": {
      "text/html": [
       "<div>\n",
       "<style scoped>\n",
       "    .dataframe tbody tr th:only-of-type {\n",
       "        vertical-align: middle;\n",
       "    }\n",
       "\n",
       "    .dataframe tbody tr th {\n",
       "        vertical-align: top;\n",
       "    }\n",
       "\n",
       "    .dataframe thead th {\n",
       "        text-align: right;\n",
       "    }\n",
       "</style>\n",
       "<table border=\"1\" class=\"dataframe\">\n",
       "  <thead>\n",
       "    <tr style=\"text-align: right;\">\n",
       "      <th></th>\n",
       "      <th>clean_text</th>\n",
       "      <th>category</th>\n",
       "    </tr>\n",
       "  </thead>\n",
       "  <tbody>\n",
       "    <tr>\n",
       "      <th>0</th>\n",
       "      <td>when modi promised “minimum government maximum...</td>\n",
       "      <td>-1.0</td>\n",
       "    </tr>\n",
       "    <tr>\n",
       "      <th>1</th>\n",
       "      <td>talk all the nonsense and continue all the dra...</td>\n",
       "      <td>0.0</td>\n",
       "    </tr>\n",
       "    <tr>\n",
       "      <th>2</th>\n",
       "      <td>what did just say vote for modi  welcome bjp t...</td>\n",
       "      <td>1.0</td>\n",
       "    </tr>\n",
       "    <tr>\n",
       "      <th>3</th>\n",
       "      <td>asking his supporters prefix chowkidar their n...</td>\n",
       "      <td>1.0</td>\n",
       "    </tr>\n",
       "    <tr>\n",
       "      <th>4</th>\n",
       "      <td>answer who among these the most powerful world...</td>\n",
       "      <td>1.0</td>\n",
       "    </tr>\n",
       "  </tbody>\n",
       "</table>\n",
       "</div>"
      ],
      "text/plain": [
       "                                          clean_text  category\n",
       "0  when modi promised “minimum government maximum...      -1.0\n",
       "1  talk all the nonsense and continue all the dra...       0.0\n",
       "2  what did just say vote for modi  welcome bjp t...       1.0\n",
       "3  asking his supporters prefix chowkidar their n...       1.0\n",
       "4  answer who among these the most powerful world...       1.0"
      ]
     },
     "execution_count": 3,
     "metadata": {},
     "output_type": "execute_result"
    }
   ],
   "source": [
    "tw_df.head()"
   ]
  },
  {
   "cell_type": "code",
   "execution_count": 4,
   "id": "d6c9b8c3",
   "metadata": {},
   "outputs": [
    {
     "name": "stdout",
     "output_type": "stream",
     "text": [
      "<class 'pandas.core.frame.DataFrame'>\n",
      "RangeIndex: 162980 entries, 0 to 162979\n",
      "Data columns (total 2 columns):\n",
      " #   Column      Non-Null Count   Dtype  \n",
      "---  ------      --------------   -----  \n",
      " 0   clean_text  162976 non-null  object \n",
      " 1   category    162973 non-null  float64\n",
      "dtypes: float64(1), object(1)\n",
      "memory usage: 2.5+ MB\n"
     ]
    }
   ],
   "source": [
    "tw_df.info()"
   ]
  },
  {
   "cell_type": "code",
   "execution_count": 5,
   "id": "77319429",
   "metadata": {},
   "outputs": [
    {
     "data": {
      "text/plain": [
       "clean_text    4\n",
       "category      7\n",
       "dtype: int64"
      ]
     },
     "execution_count": 5,
     "metadata": {},
     "output_type": "execute_result"
    }
   ],
   "source": [
    "tw_df.isna().sum()"
   ]
  },
  {
   "cell_type": "code",
   "execution_count": 6,
   "id": "ff5dde8e",
   "metadata": {},
   "outputs": [],
   "source": [
    "tw_df.dropna(inplace=True)"
   ]
  },
  {
   "cell_type": "code",
   "execution_count": 7,
   "id": "c0c4a23c",
   "metadata": {},
   "outputs": [
    {
     "data": {
      "text/plain": [
       "np.int64(0)"
      ]
     },
     "execution_count": 7,
     "metadata": {},
     "output_type": "execute_result"
    }
   ],
   "source": [
    "tw_df.duplicated().sum()"
   ]
  },
  {
   "cell_type": "code",
   "execution_count": 8,
   "id": "b4692a93",
   "metadata": {},
   "outputs": [
    {
     "data": {
      "text/plain": [
       "category\n",
       " 1.0    72249\n",
       " 0.0    55211\n",
       "-1.0    35509\n",
       "Name: count, dtype: int64"
      ]
     },
     "execution_count": 8,
     "metadata": {},
     "output_type": "execute_result"
    }
   ],
   "source": [
    "tw_df[\"category\"].value_counts()"
   ]
  },
  {
   "cell_type": "code",
   "execution_count": 9,
   "id": "80bc6585",
   "metadata": {},
   "outputs": [],
   "source": [
    "# min_samples = 35509\n",
    "\n",
    "# df_1 = tw_df[tw_df.category==1.0].sample(min_samples , random_state=42)\n",
    "# df_0  = tw_df[tw_df[\"category\"]==0.0].sample(min_samples , random_state=42)\n",
    "# df_neg_1 = tw_df[tw_df[\"category\"]==-1.0].sample(min_samples , random_state = 42)\n",
    "\n",
    "# df_balance = pd.concat([df_1,df_0,df_neg_1],axis=0)\n",
    "# df_balance[\"category\"].value_counts()"
   ]
  },
  {
   "cell_type": "code",
   "execution_count": 10,
   "id": "05b07139",
   "metadata": {},
   "outputs": [],
   "source": [
    "# df_balance.tail()"
   ]
  },
  {
   "cell_type": "markdown",
   "id": "4c1228fe",
   "metadata": {},
   "source": [
    "*Split data to X & y* "
   ]
  },
  {
   "cell_type": "code",
   "execution_count": 11,
   "id": "a3851f53",
   "metadata": {},
   "outputs": [],
   "source": [
    "X = tw_df[\"clean_text\"]\n",
    "y = tw_df[\"category\"]"
   ]
  },
  {
   "cell_type": "markdown",
   "id": "eb69fd9c",
   "metadata": {},
   "source": [
    "**Splitting data to train & test sets**"
   ]
  },
  {
   "cell_type": "code",
   "execution_count": 12,
   "id": "cb43edf6",
   "metadata": {},
   "outputs": [
    {
     "name": "stdout",
     "output_type": "stream",
     "text": [
      "(130375,) (32594,) (130375,) (32594,)\n"
     ]
    }
   ],
   "source": [
    "X_train, X_test, y_train, y_test = train_test_split(X,y , test_size=0.2, random_state=42\n",
    "                                                     , shuffle=True,stratify=y)\n",
    "print(X_train.shape, X_test.shape, y_train.shape, y_test.shape)"
   ]
  },
  {
   "cell_type": "code",
   "execution_count": null,
   "id": "1265ec47",
   "metadata": {},
   "outputs": [],
   "source": []
  },
  {
   "cell_type": "code",
   "execution_count": 13,
   "id": "e7c979df",
   "metadata": {},
   "outputs": [
    {
     "name": "stdout",
     "output_type": "stream",
     "text": [
      "🔹 Naive Bayes Results 🙅‍♂️:\n",
      "Accuracy: 0.7530220285942198\n",
      "              precision    recall  f1-score   support\n",
      "\n",
      "        -1.0       0.75      0.61      0.68      7102\n",
      "         0.0       0.92      0.62      0.74     11042\n",
      "         1.0       0.69      0.92      0.79     14450\n",
      "\n",
      "    accuracy                           0.75     32594\n",
      "   macro avg       0.79      0.72      0.74     32594\n",
      "weighted avg       0.78      0.75      0.75     32594\n",
      "\n"
     ]
    }
   ],
   "source": [
    "# ==========================\n",
    "# 1. Naive Bayes🙅‍♂️\n",
    "# ==========================\n",
    "nb_model = Pipeline([\n",
    "    (\"vectorizer\", CountVectorizer(ngram_range=(1, 1))),\n",
    "    (\"classifier\", MultinomialNB())\n",
    "])\n",
    "\n",
    "nb_model.fit(X_train, y_train)\n",
    "nb_pred = nb_model.predict(X_test)\n",
    "\n",
    "print(\"🔹 Naive Bayes Results 🙅‍♂️:\")\n",
    "print(\"Accuracy:\", accuracy_score(y_test, nb_pred))\n",
    "print(classification_report(y_test, nb_pred))\n"
   ]
  },
  {
   "cell_type": "code",
   "execution_count": 14,
   "id": "19fcfdd6",
   "metadata": {},
   "outputs": [
    {
     "name": "stdout",
     "output_type": "stream",
     "text": [
      "🔹 Logistic Regression Results 👌:\n",
      "Accuracy: 0.9462477756642327\n",
      "              precision    recall  f1-score   support\n",
      "\n",
      "        -1.0       0.92      0.88      0.90      7102\n",
      "         0.0       0.96      0.98      0.97     11042\n",
      "         1.0       0.95      0.96      0.95     14450\n",
      "\n",
      "    accuracy                           0.95     32594\n",
      "   macro avg       0.94      0.94      0.94     32594\n",
      "weighted avg       0.95      0.95      0.95     32594\n",
      "\n"
     ]
    }
   ],
   "source": [
    "\n",
    "# ==========================\n",
    "# 2. Logistic Regression👌✔️\n",
    "# ==========================\n",
    "lr_model = Pipeline([\n",
    "    (\"vectorizer\", CountVectorizer(ngram_range=(1, 1))),\n",
    "    (\"classifier\", LogisticRegression(max_iter=1000))\n",
    "])\n",
    "\n",
    "lr_model.fit(X_train, y_train)\n",
    "lr_pred = lr_model.predict(X_test)\n",
    "\n",
    "print(\"🔹 Logistic Regression Results 👌:\")\n",
    "print(\"Accuracy:\", accuracy_score(y_test, lr_pred))\n",
    "print(classification_report(y_test, lr_pred))"
   ]
  },
  {
   "cell_type": "code",
   "execution_count": 15,
   "id": "738cb4e5",
   "metadata": {},
   "outputs": [
    {
     "data": {
      "text/plain": [
       "array([[ 6221,   283,   598],\n",
       "       [   99, 10811,   132],\n",
       "       [  430,   210, 13810]])"
      ]
     },
     "execution_count": 15,
     "metadata": {},
     "output_type": "execute_result"
    }
   ],
   "source": [
    "cm = confusion_matrix(y_test,lr_pred)\n",
    "cm"
   ]
  },
  {
   "cell_type": "code",
   "execution_count": 16,
   "id": "f99f19f2",
   "metadata": {},
   "outputs": [
    {
     "data": {
      "image/png": "[encoded data removed]",
      "text/plain": [
       "<Figure size 1200x500 with 2 Axes>"
      ]
     },
     "metadata": {},
     "output_type": "display_data"
    }
   ],
   "source": [
    "plt.figure(figsize = (12,5))\n",
    "sns.heatmap(cm, annot=True , cmap =\"Blues\" , fmt=\"d\")\n",
    "plt.xlabel(\"prediction\")\n",
    "plt.ylabel(\"truth\")\n",
    "plt.show()"
   ]
  },
  {
   "cell_type": "markdown",
   "id": "b628db46",
   "metadata": {},
   "source": [
    "**===================================================================**"
   ]
  },
  {
   "cell_type": "code",
   "execution_count": null,
   "id": "271888f0",
   "metadata": {},
   "outputs": [],
   "source": []
  },
  {
   "cell_type": "markdown",
   "id": "09e27ceb",
   "metadata": {},
   "source": [
    "### Sentemint Analysis in Reddit"
   ]
  },
  {
   "cell_type": "code",
   "execution_count": 17,
   "id": "9324f443",
   "metadata": {},
   "outputs": [
    {
     "data": {
      "text/plain": [
       "(37249, 2)"
      ]
     },
     "execution_count": 17,
     "metadata": {},
     "output_type": "execute_result"
    }
   ],
   "source": [
    "rd_df = pd.read_csv(\"Reddit_Data.csv\")\n",
    "rd_df.shape"
   ]
  },
  {
   "cell_type": "code",
   "execution_count": 18,
   "id": "ad50eebb",
   "metadata": {},
   "outputs": [
    {
     "data": {
      "text/html": [
       "<div>\n",
       "<style scoped>\n",
       "    .dataframe tbody tr th:only-of-type {\n",
       "        vertical-align: middle;\n",
       "    }\n",
       "\n",
       "    .dataframe tbody tr th {\n",
       "        vertical-align: top;\n",
       "    }\n",
       "\n",
       "    .dataframe thead th {\n",
       "        text-align: right;\n",
       "    }\n",
       "</style>\n",
       "<table border=\"1\" class=\"dataframe\">\n",
       "  <thead>\n",
       "    <tr style=\"text-align: right;\">\n",
       "      <th></th>\n",
       "      <th>clean_comment</th>\n",
       "      <th>category</th>\n",
       "    </tr>\n",
       "  </thead>\n",
       "  <tbody>\n",
       "    <tr>\n",
       "      <th>0</th>\n",
       "      <td>family mormon have never tried explain them t...</td>\n",
       "      <td>1</td>\n",
       "    </tr>\n",
       "    <tr>\n",
       "      <th>1</th>\n",
       "      <td>buddhism has very much lot compatible with chr...</td>\n",
       "      <td>1</td>\n",
       "    </tr>\n",
       "    <tr>\n",
       "      <th>2</th>\n",
       "      <td>seriously don say thing first all they won get...</td>\n",
       "      <td>-1</td>\n",
       "    </tr>\n",
       "    <tr>\n",
       "      <th>3</th>\n",
       "      <td>what you have learned yours and only yours wha...</td>\n",
       "      <td>0</td>\n",
       "    </tr>\n",
       "    <tr>\n",
       "      <th>4</th>\n",
       "      <td>for your own benefit you may want read living ...</td>\n",
       "      <td>1</td>\n",
       "    </tr>\n",
       "  </tbody>\n",
       "</table>\n",
       "</div>"
      ],
      "text/plain": [
       "                                       clean_comment  category\n",
       "0   family mormon have never tried explain them t...         1\n",
       "1  buddhism has very much lot compatible with chr...         1\n",
       "2  seriously don say thing first all they won get...        -1\n",
       "3  what you have learned yours and only yours wha...         0\n",
       "4  for your own benefit you may want read living ...         1"
      ]
     },
     "execution_count": 18,
     "metadata": {},
     "output_type": "execute_result"
    }
   ],
   "source": [
    "rd_df.head()"
   ]
  },
  {
   "cell_type": "code",
   "execution_count": 19,
   "id": "d1033148",
   "metadata": {},
   "outputs": [
    {
     "name": "stdout",
     "output_type": "stream",
     "text": [
      "<class 'pandas.core.frame.DataFrame'>\n",
      "RangeIndex: 37249 entries, 0 to 37248\n",
      "Data columns (total 2 columns):\n",
      " #   Column         Non-Null Count  Dtype \n",
      "---  ------         --------------  ----- \n",
      " 0   clean_comment  37149 non-null  object\n",
      " 1   category       37249 non-null  int64 \n",
      "dtypes: int64(1), object(1)\n",
      "memory usage: 582.1+ KB\n"
     ]
    }
   ],
   "source": [
    "rd_df.info()"
   ]
  },
  {
   "cell_type": "code",
   "execution_count": 20,
   "id": "7de52318",
   "metadata": {},
   "outputs": [
    {
     "data": {
      "text/plain": [
       "clean_comment    100\n",
       "category           0\n",
       "dtype: int64"
      ]
     },
     "execution_count": 20,
     "metadata": {},
     "output_type": "execute_result"
    }
   ],
   "source": [
    "rd_df.isna().sum()"
   ]
  },
  {
   "cell_type": "code",
   "execution_count": 21,
   "id": "f1970cff",
   "metadata": {},
   "outputs": [],
   "source": [
    "rd_df.dropna(inplace = True)"
   ]
  },
  {
   "cell_type": "code",
   "execution_count": 22,
   "id": "b4c33c1a",
   "metadata": {},
   "outputs": [
    {
     "data": {
      "text/plain": [
       "np.int64(350)"
      ]
     },
     "execution_count": 22,
     "metadata": {},
     "output_type": "execute_result"
    }
   ],
   "source": [
    "rd_df.duplicated().sum()"
   ]
  },
  {
   "cell_type": "code",
   "execution_count": 23,
   "id": "f6077837",
   "metadata": {},
   "outputs": [],
   "source": [
    "rd_df.drop_duplicates(inplace = True)"
   ]
  },
  {
   "cell_type": "code",
   "execution_count": 24,
   "id": "a9e74493",
   "metadata": {},
   "outputs": [
    {
     "data": {
      "text/plain": [
       "(36799, 2)"
      ]
     },
     "execution_count": 24,
     "metadata": {},
     "output_type": "execute_result"
    }
   ],
   "source": [
    "rd_df.shape"
   ]
  },
  {
   "cell_type": "code",
   "execution_count": 25,
   "id": "c1a9cba5",
   "metadata": {},
   "outputs": [
    {
     "data": {
      "text/plain": [
       "category\n",
       " 1    15771\n",
       " 0    12778\n",
       "-1     8250\n",
       "Name: count, dtype: int64"
      ]
     },
     "execution_count": 25,
     "metadata": {},
     "output_type": "execute_result"
    }
   ],
   "source": [
    "rd_df[\"category\"].value_counts()"
   ]
  },
  {
   "cell_type": "code",
   "execution_count": 26,
   "id": "1e614b07",
   "metadata": {},
   "outputs": [],
   "source": [
    "X = rd_df[\"clean_comment\"]\n",
    "y = rd_df[\"category\"]"
   ]
  },
  {
   "cell_type": "code",
   "execution_count": 27,
   "id": "9151dada",
   "metadata": {},
   "outputs": [
    {
     "name": "stdout",
     "output_type": "stream",
     "text": [
      "(29439,) (7360,) (29439,) (7360,)\n"
     ]
    }
   ],
   "source": [
    "X_train, X_test, y_train, y_test = train_test_split(X,y, test_size=0.2 , random_state=42 , shuffle=True, stratify = y)\n",
    "print(X_train.shape , X_test.shape, y_train.shape, y_test.shape)"
   ]
  },
  {
   "cell_type": "code",
   "execution_count": null,
   "id": "39c667d4",
   "metadata": {},
   "outputs": [],
   "source": []
  },
  {
   "cell_type": "code",
   "execution_count": 28,
   "id": "2ce10b5a",
   "metadata": {},
   "outputs": [
    {
     "name": "stdout",
     "output_type": "stream",
     "text": [
      "🔹 Naive Bayes Results 🙅‍♂️:\n",
      "Accuracy :  0.61875\n",
      "              precision    recall  f1-score   support\n",
      "\n",
      "          -1       0.67      0.39      0.49      1650\n",
      "           0       0.87      0.38      0.53      2556\n",
      "           1       0.56      0.93      0.70      3154\n",
      "\n",
      "    accuracy                           0.62      7360\n",
      "   macro avg       0.70      0.57      0.57      7360\n",
      "weighted avg       0.69      0.62      0.59      7360\n",
      "\n"
     ]
    }
   ],
   "source": [
    "# ==========================\n",
    "# 1. Naive Bayes🙅‍♂️\n",
    "# ==========================\n",
    "nb_model = Pipeline([\n",
    "    (\"vectorizer\" , CountVectorizer(ngram_range = (1,1))),\n",
    "    (\"classifier\", MultinomialNB())\n",
    "    \n",
    "])\n",
    "\n",
    "\n",
    "nb_model.fit(X_train,y_train)\n",
    "\n",
    "nb_pred = nb_model.predict(X_test)\n",
    "\n",
    "\n",
    "print(\"🔹 Naive Bayes Results 🙅‍♂️:\")\n",
    "print(\"Accuracy : \" ,accuracy_score(y_test,nb_pred))\n",
    "print(classification_report(y_test,nb_pred ))"
   ]
  },
  {
   "cell_type": "code",
   "execution_count": 33,
   "id": "9befed6d",
   "metadata": {},
   "outputs": [
    {
     "name": "stdout",
     "output_type": "stream",
     "text": [
      " 🔹 KNN Results 👎:\n",
      "Accuracy : 0.5139945652173913\n",
      "              precision    recall  f1-score   support\n",
      "\n",
      "          -1       0.45      0.22      0.29      1650\n",
      "           0       0.46      0.95      0.62      2556\n",
      "           1       0.79      0.31      0.45      3154\n",
      "\n",
      "    accuracy                           0.51      7360\n",
      "   macro avg       0.57      0.49      0.45      7360\n",
      "weighted avg       0.60      0.51      0.47      7360\n",
      "\n"
     ]
    }
   ],
   "source": [
    "#================================\n",
    "# 2. KNN = K nearst neighbor \n",
    "#===============================\n",
    "knn_model = Pipeline([\n",
    "    (\"vectorizer\" , CountVectorizer(ngram_range = (1,1))),\n",
    "    (\"classifier\" , KNeighborsClassifier(n_neighbors=3))\n",
    "])\n",
    "\n",
    "\n",
    "knn_model.fit(X_train,y_train)\n",
    "\n",
    "knn_pred = knn_model.predict(X_test)\n",
    "\n",
    "print(\" 🔹 KNN Results 👎:\")\n",
    "print(\"Accuracy :\" , accuracy_score(y_test, knn_pred))\n",
    "print(classification_report(y_test, knn_pred))"
   ]
  },
  {
   "cell_type": "code",
   "execution_count": 30,
   "id": "746a8ea5",
   "metadata": {},
   "outputs": [
    {
     "name": "stdout",
     "output_type": "stream",
     "text": [
      " 🔹 Logistic Regression Results 👌:\n",
      "Accuracy : 0.890625\n",
      "              precision    recall  f1-score   support\n",
      "\n",
      "          -1       0.86      0.76      0.81      1650\n",
      "           0       0.89      0.97      0.93      2556\n",
      "           1       0.91      0.89      0.90      3154\n",
      "\n",
      "    accuracy                           0.89      7360\n",
      "   macro avg       0.89      0.88      0.88      7360\n",
      "weighted avg       0.89      0.89      0.89      7360\n",
      "\n"
     ]
    }
   ],
   "source": [
    "#================================\n",
    "# 3. Logistic Regression✔️👌\n",
    "#===============================\n",
    "lr_model = Pipeline([\n",
    "    (\"vectorizer\" , CountVectorizer(ngram_range = (1,1))),\n",
    "    (\"classifier\" , LogisticRegression())\n",
    "])\n",
    "\n",
    "\n",
    "lr_model.fit(X_train,y_train)\n",
    "\n",
    "lr_pred = lr_model.predict(X_test)\n",
    "\n",
    "print(\" 🔹 Logistic Regression Results 👌:\")\n",
    "print(\"Accuracy :\" , accuracy_score(y_test, lr_pred))\n",
    "print(classification_report(y_test, lr_pred))"
   ]
  },
  {
   "cell_type": "code",
   "execution_count": 31,
   "id": "ed9122e7",
   "metadata": {},
   "outputs": [
    {
     "data": {
      "text/plain": [
       "array([[1261,  146,  243],\n",
       "       [  41, 2479,   36],\n",
       "       [ 165,  174, 2815]])"
      ]
     },
     "execution_count": 31,
     "metadata": {},
     "output_type": "execute_result"
    }
   ],
   "source": [
    "cm = confusion_matrix(y_test, lr_pred)\n",
    "cm"
   ]
  },
  {
   "cell_type": "code",
   "execution_count": 32,
   "id": "3c628440",
   "metadata": {},
   "outputs": [
    {
     "data": {
      "image/png": "[encoded data removed]",
      "text/plain": [
       "<Figure size 1200x500 with 2 Axes>"
      ]
     },
     "metadata": {},
     "output_type": "display_data"
    }
   ],
   "source": [
    "plt.figure(figsize = (12,5))\n",
    "\n",
    "sns.heatmap(cm , annot=True , fmt=\"d\",cmap=\"Reds\")\n",
    "\n",
    "plt.xlabel(\"rediction\")\n",
    "plt.ylabel(\"Actual\")\n",
    "plt.show()"
   ]
  }
 ],
 "metadata": {
  "kernelspec": {
   "display_name": "Python 3",
   "language": "python",
   "name": "python3"
  },
  "language_info": {
   "codemirror_mode": {
    "name": "ipython",
    "version": 3
   },
   "file_extension": ".py",
   "mimetype": "text/x-python",
   "name": "python",
   "nbconvert_exporter": "python",
   "pygments_lexer": "ipython3",
   "version": "3.12.10"
  }
 },
 "nbformat": 4,
 "nbformat_minor": 5
}
